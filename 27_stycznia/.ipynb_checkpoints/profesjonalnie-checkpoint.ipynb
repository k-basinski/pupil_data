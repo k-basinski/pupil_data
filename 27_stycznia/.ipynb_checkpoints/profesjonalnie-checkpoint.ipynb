{
 "cells": [
  {
   "cell_type": "code",
   "execution_count": 1,
   "metadata": {},
   "outputs": [],
   "source": [
    "import pandas as pd\n",
    "import numpy as np\n",
    "import matplotlib.pyplot as plt\n",
    "import seaborn as sns\n",
    "from scipy import stats"
   ]
  },
  {
   "cell_type": "code",
   "execution_count": 32,
   "metadata": {},
   "outputs": [],
   "source": [
    "df = pd.read_csv('pupil_positions.csv')"
   ]
  },
  {
   "cell_type": "code",
   "execution_count": 33,
   "metadata": {},
   "outputs": [
    {
     "name": "stdout",
     "output_type": "stream",
     "text": [
      "<class 'pandas.core.frame.DataFrame'>\n",
      "RangeIndex: 36480 entries, 0 to 36479\n",
      "Data columns (total 34 columns):\n",
      "pupil_timestamp              36480 non-null float64\n",
      "world_index                  36480 non-null int64\n",
      "eye_id                       36480 non-null int64\n",
      "confidence                   36480 non-null float64\n",
      "norm_pos_x                   36480 non-null float64\n",
      "norm_pos_y                   36480 non-null float64\n",
      "diameter                     36480 non-null float64\n",
      "method                       36480 non-null object\n",
      "ellipse_center_x             36480 non-null float64\n",
      "ellipse_center_y             36480 non-null float64\n",
      "ellipse_axis_a               36480 non-null float64\n",
      "ellipse_axis_b               36480 non-null float64\n",
      "ellipse_angle                36480 non-null float64\n",
      "diameter_3d                  36480 non-null float64\n",
      "model_confidence             36480 non-null float64\n",
      "model_id                     36480 non-null int64\n",
      "sphere_center_x              36480 non-null float64\n",
      "sphere_center_y              36480 non-null float64\n",
      "sphere_center_z              36480 non-null float64\n",
      "sphere_radius                36480 non-null float64\n",
      "circle_3d_center_x           36480 non-null float64\n",
      "circle_3d_center_y           36480 non-null float64\n",
      "circle_3d_center_z           36480 non-null float64\n",
      "circle_3d_normal_x           36480 non-null float64\n",
      "circle_3d_normal_y           36480 non-null float64\n",
      "circle_3d_normal_z           36480 non-null float64\n",
      "circle_3d_radius             36480 non-null float64\n",
      "theta                        36480 non-null float64\n",
      "phi                          36480 non-null float64\n",
      "projected_sphere_center_x    36480 non-null float64\n",
      "projected_sphere_center_y    36480 non-null float64\n",
      "projected_sphere_axis_a      36480 non-null float64\n",
      "projected_sphere_axis_b      36480 non-null float64\n",
      "projected_sphere_angle       36480 non-null float64\n",
      "dtypes: float64(30), int64(3), object(1)\n",
      "memory usage: 9.5+ MB\n"
     ]
    }
   ],
   "source": [
    "df.info()"
   ]
  },
  {
   "cell_type": "code",
   "execution_count": 47,
   "metadata": {},
   "outputs": [],
   "source": [
    "# zrób diameter\n",
    "df.loc[:, 'diam'] = df['diameter']\n",
    "\n",
    "# zrób na ze wszystkich, które mają confi < 0.9\n",
    "df.loc[df['confidence'] < .95, 'diam'] = np.nan\n",
    "\n",
    "#przelicz z-score\n",
    "# df.loc[:, 'diam'] = stats.zscore(df['diam'])\n",
    "\n",
    "# dołóż dobry czas\n",
    "start_time = df['pupil_timestamp'][0]\n",
    "df['time'] = df['pupil_timestamp'] - start_time\n",
    "\n",
    "# określ warunki\n",
    "df['condition'] = 'recovery'\n",
    "df.loc[df['time'] < 60, 'condition'] = 'test'\n",
    "df.loc[df['time'] < 30, 'condition'] = 'baseline'\n",
    "\n",
    "# rozbij na oczy\n",
    "e0 = df.loc[df['eye_id'] == 0, :]\n",
    "e1 = df.loc[df['eye_id'] == 1, :]"
   ]
  },
  {
   "cell_type": "code",
   "execution_count": 37,
   "metadata": {},
   "outputs": [
    {
     "data": {
      "text/plain": [
       "1        51.565845\n",
       "3        51.370087\n",
       "5        51.721242\n",
       "7        51.836110\n",
       "9        51.915821\n",
       "           ...    \n",
       "36470    50.503719\n",
       "36472    50.349985\n",
       "36474          NaN\n",
       "36476          NaN\n",
       "36478    50.691213\n",
       "Name: diam, Length: 18245, dtype: float64"
      ]
     },
     "execution_count": 37,
     "metadata": {},
     "output_type": "execute_result"
    }
   ],
   "source": [
    "e0.diam"
   ]
  },
  {
   "cell_type": "code",
   "execution_count": 42,
   "metadata": {},
   "outputs": [
    {
     "data": {
      "image/png": "[encoded data removed]",
      "text/plain": [
       "<Figure size 432x288 with 1 Axes>"
      ]
     },
     "metadata": {
      "needs_background": "light"
     },
     "output_type": "display_data"
    }
   ],
   "source": [
    "sns.lineplot(x='time', y='diam', data=e1[:200*30])\n",
    "plt.savefig('plt.png', dpi=300)"
   ]
  },
  {
   "cell_type": "code",
   "execution_count": null,
   "metadata": {},
   "outputs": [],
   "source": []
  },
  {
   "cell_type": "code",
   "execution_count": 48,
   "metadata": {},
   "outputs": [],
   "source": [
    "def make_fft(signal):\n",
    "    n_samples = len(signal)\n",
    "    fft_freq = np.fft.fftfreq(n_samples, sample_spacing)\n",
    "    fft_vals = np.fft.fft(signal)\n",
    "    fft_df = pd.DataFrame({'freq':fft_freq, 'val':abs(fft_vals)})\n",
    "    return fft_df[(fft_df['freq']>0)]"
   ]
  },
  {
   "cell_type": "code",
   "execution_count": 49,
   "metadata": {},
   "outputs": [],
   "source": [
    "# lepsze jest oko 1, więc tylko to weźmiemy\n",
    "# najpierw baseline\n",
    "baseline = df[(df['condition'] == 'baseline') & (df['eye_id']==1)]\n",
    "\n",
    "czas_przes = baseline['time'].values[1:]\n",
    "time_diff = baseline['time'][:-1] - czas_przes\n",
    "sample_spacing = time_diff.mean()\n",
    "\n",
    "signal = baseline['diameter']\n",
    "fft_baseline = make_fft(signal)\n",
    "fft_baseline['cond'] = 'baseline'\n",
    "\n",
    "signal = df.loc[(df['condition'] == 'test') & (df['eye_id']==1), 'diameter']\n",
    "fft_test = make_fft(signal)\n",
    "fft_test['cond'] = 'test'\n",
    "\n",
    "signal = df.loc[(df['condition'] == 'recovery') & (df['eye_id']==1), 'diameter']\n",
    "fft_recovery = make_fft(signal)\n",
    "fft_recovery['cond'] = 'recovery'\n",
    "\n",
    "fft_all = pd.concat([fft_baseline, fft_test, fft_recovery])\n"
   ]
  },
  {
   "cell_type": "code",
   "execution_count": 50,
   "metadata": {},
   "outputs": [
    {
     "ename": "NameError",
     "evalue": "name 'fft_df' is not defined",
     "output_type": "error",
     "traceback": [
      "\u001b[0;31m---------------------------------------------------------------------------\u001b[0m",
      "\u001b[0;31mNameError\u001b[0m                                 Traceback (most recent call last)",
      "\u001b[0;32m<ipython-input-50-9bea8d56a117>\u001b[0m in \u001b[0;36m<module>\u001b[0;34m\u001b[0m\n\u001b[0;32m----> 1\u001b[0;31m \u001b[0msns\u001b[0m\u001b[0;34m.\u001b[0m\u001b[0mlineplot\u001b[0m\u001b[0;34m(\u001b[0m\u001b[0;34m'freq'\u001b[0m\u001b[0;34m,\u001b[0m \u001b[0;34m'val'\u001b[0m\u001b[0;34m,\u001b[0m \u001b[0mdata\u001b[0m\u001b[0;34m=\u001b[0m\u001b[0mfft_df\u001b[0m\u001b[0;34m[\u001b[0m\u001b[0;34m(\u001b[0m\u001b[0mfft_df\u001b[0m\u001b[0;34m[\u001b[0m\u001b[0;34m'freq'\u001b[0m\u001b[0;34m]\u001b[0m\u001b[0;34m>\u001b[0m\u001b[0;36m0.05\u001b[0m\u001b[0;34m)\u001b[0m\u001b[0;34m&\u001b[0m\u001b[0;34m(\u001b[0m\u001b[0mfft_df\u001b[0m\u001b[0;34m[\u001b[0m\u001b[0;34m'freq'\u001b[0m\u001b[0;34m]\u001b[0m\u001b[0;34m<\u001b[0m\u001b[0;36m20\u001b[0m\u001b[0;34m)\u001b[0m\u001b[0;34m]\u001b[0m\u001b[0;34m)\u001b[0m\u001b[0;34m\u001b[0m\u001b[0;34m\u001b[0m\u001b[0m\n\u001b[0m",
      "\u001b[0;31mNameError\u001b[0m: name 'fft_df' is not defined"
     ]
    }
   ],
   "source": [
    "sns.lineplot('freq', 'val', data=fft_df[(fft_df['freq']>0.05)&(fft_df['freq']<20)])"
   ]
  },
  {
   "cell_type": "code",
   "execution_count": null,
   "metadata": {},
   "outputs": [],
   "source": []
  }
 ],
 "metadata": {
  "kernelspec": {
   "display_name": "Python 3",
   "language": "python",
   "name": "python3"
  },
  "language_info": {
   "codemirror_mode": {
    "name": "ipython",
    "version": 3
   },
   "file_extension": ".py",
   "mimetype": "text/x-python",
   "name": "python",
   "nbconvert_exporter": "python",
   "pygments_lexer": "ipython3",
   "version": "3.7.3"
  }
 },
 "nbformat": 4,
 "nbformat_minor": 4
}
