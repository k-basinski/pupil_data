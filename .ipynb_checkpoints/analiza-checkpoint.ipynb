{
 "cells": [
  {
   "cell_type": "code",
   "execution_count": 5,
   "metadata": {},
   "outputs": [],
   "source": [
    "import pandas as pd\n",
    "import numpy as np\n",
    "import matplotlib.pyplot as plt\n",
    "import seaborn as sns"
   ]
  },
  {
   "cell_type": "code",
   "execution_count": 24,
   "metadata": {},
   "outputs": [],
   "source": [
    "t0 = pd.read_csv('pupil_positions_t0.csv')\n",
    "df = t0.loc[:, ['pupil_timestamp', 'diameter', 'confidence', 'eye_id']]"
   ]
  },
  {
   "cell_type": "code",
   "execution_count": 25,
   "metadata": {},
   "outputs": [],
   "source": [
    "# zrób na ze wszystkich, które mają confi < 0.6\n",
    "df.loc[df['confidence'] < .6, 'diameter'] = np.nan\n",
    "\n",
    "start_time = df['pupil_timestamp'][0]\n",
    "# dołóż dobry czas\n",
    "df['time'] = df['pupil_timestamp'] - start_time\n",
    "\n",
    "def make_cond(time):\n",
    "    if time < 30:\n",
    "        return 'baseline'\n",
    "    elif time < 60:\n",
    "        return 'test'\n",
    "    elif time >= 60:\n",
    "        return 'recovery'\n",
    "\n",
    "# rozbij na oczy\n",
    "e0 = df.loc[df['eye_id'] == 0, :]\n",
    "e1 = df.loc[df['eye_id'] == 1, :]\n",
    "\n",
    "# wprowadź czasy\n"
   ]
  },
  {
   "cell_type": "code",
   "execution_count": 23,
   "metadata": {},
   "outputs": [
    {
     "data": {
      "text/html": [
       "<div>\n",
       "<style scoped>\n",
       "    .dataframe tbody tr th:only-of-type {\n",
       "        vertical-align: middle;\n",
       "    }\n",
       "\n",
       "    .dataframe tbody tr th {\n",
       "        vertical-align: top;\n",
       "    }\n",
       "\n",
       "    .dataframe thead th {\n",
       "        text-align: right;\n",
       "    }\n",
       "</style>\n",
       "<table border=\"1\" class=\"dataframe\">\n",
       "  <thead>\n",
       "    <tr style=\"text-align: right;\">\n",
       "      <th></th>\n",
       "      <th>pupil_timestamp</th>\n",
       "      <th>diameter</th>\n",
       "      <th>confidence</th>\n",
       "      <th>eye_id</th>\n",
       "      <th>time</th>\n",
       "    </tr>\n",
       "  </thead>\n",
       "  <tbody>\n",
       "    <tr>\n",
       "      <th>0</th>\n",
       "      <td>15866.919095</td>\n",
       "      <td>NaN</td>\n",
       "      <td>0.369426</td>\n",
       "      <td>0</td>\n",
       "      <td>0.000000</td>\n",
       "    </tr>\n",
       "    <tr>\n",
       "      <th>2</th>\n",
       "      <td>15866.927164</td>\n",
       "      <td>NaN</td>\n",
       "      <td>0.391915</td>\n",
       "      <td>0</td>\n",
       "      <td>0.008069</td>\n",
       "    </tr>\n",
       "    <tr>\n",
       "      <th>4</th>\n",
       "      <td>15866.935233</td>\n",
       "      <td>NaN</td>\n",
       "      <td>0.390870</td>\n",
       "      <td>0</td>\n",
       "      <td>0.016138</td>\n",
       "    </tr>\n",
       "    <tr>\n",
       "      <th>6</th>\n",
       "      <td>15866.943302</td>\n",
       "      <td>NaN</td>\n",
       "      <td>0.377240</td>\n",
       "      <td>0</td>\n",
       "      <td>0.024207</td>\n",
       "    </tr>\n",
       "    <tr>\n",
       "      <th>8</th>\n",
       "      <td>15866.951371</td>\n",
       "      <td>NaN</td>\n",
       "      <td>0.449129</td>\n",
       "      <td>0</td>\n",
       "      <td>0.032276</td>\n",
       "    </tr>\n",
       "  </tbody>\n",
       "</table>\n",
       "</div>"
      ],
      "text/plain": [
       "   pupil_timestamp  diameter  confidence  eye_id      time\n",
       "0     15866.919095       NaN    0.369426       0  0.000000\n",
       "2     15866.927164       NaN    0.391915       0  0.008069\n",
       "4     15866.935233       NaN    0.390870       0  0.016138\n",
       "6     15866.943302       NaN    0.377240       0  0.024207\n",
       "8     15866.951371       NaN    0.449129       0  0.032276"
      ]
     },
     "execution_count": 23,
     "metadata": {},
     "output_type": "execute_result"
    }
   ],
   "source": [
    "e0.head()"
   ]
  },
  {
   "cell_type": "code",
   "execution_count": null,
   "metadata": {},
   "outputs": [],
   "source": []
  }
 ],
 "metadata": {
  "kernelspec": {
   "display_name": "Python 3",
   "language": "python",
   "name": "python3"
  },
  "language_info": {
   "codemirror_mode": {
    "name": "ipython",
    "version": 3
   },
   "file_extension": ".py",
   "mimetype": "text/x-python",
   "name": "python",
   "nbconvert_exporter": "python",
   "pygments_lexer": "ipython3",
   "version": "3.7.3"
  }
 },
 "nbformat": 4,
 "nbformat_minor": 2
}
