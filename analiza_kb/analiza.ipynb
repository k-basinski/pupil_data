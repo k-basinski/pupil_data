{
 "cells": [
  {
   "cell_type": "code",
   "execution_count": 54,
   "metadata": {},
   "outputs": [],
   "source": [
    "import pandas as pd\n",
    "import numpy as np\n",
    "import matplotlib.pyplot as plt\n",
    "import seaborn as sns\n",
    "from scipy import stats\n",
    "import plotly.express as px\n",
    "import plotly.graph_objects as go"
   ]
  },
  {
   "cell_type": "code",
   "execution_count": 80,
   "metadata": {},
   "outputs": [],
   "source": [
    "t0 = pd.read_csv('pupil_positions_t0.csv')\n",
    "df = t0.loc[:, ['pupil_timestamp', 'diameter', 'confidence', 'eye_id']]\n",
    "t1 = pd.read_csv('pupil_positions_t1.csv')\n",
    "df1 = t1.loc[:, ['pupil_timestamp', 'diameter', 'confidence', 'eye_id']]"
   ]
  },
  {
   "cell_type": "code",
   "execution_count": 81,
   "metadata": {},
   "outputs": [],
   "source": [
    "#przelicz z-score\n",
    "\n",
    "df.loc[:, 'diam'] = stats.zscore(df['diameter'])\n",
    "\n",
    "# zrób na ze wszystkich, które mają confi < 0.6\n",
    "df.loc[df['confidence'] < .6, 'diam'] = np.nan\n",
    "\n",
    "start_time = df['pupil_timestamp'][0]\n",
    "# dołóż dobry czas\n",
    "df['time'] = df['pupil_timestamp'] - start_time\n",
    "\n",
    "# określ warunki\n",
    "df['condition'] = 'recovery'\n",
    "df.loc[df['time'] < 60, 'condition'] = 'test'\n",
    "df.loc[df['time'] < 30, 'condition'] = 'baseline'\n",
    "\n",
    "# czasy relatywnie do warunków\n",
    "df['cond_time'] = df['time']\n",
    "df.loc[df['time'] > 60, 'cond_time'] = df['time'] - 60\n",
    "df.loc[(df['time'] > 30) & (df['time'] < 60), 'cond_time'] = df['time'] - 30\n",
    "\n",
    "# rozbij na oczy\n",
    "e0 = df.loc[df['eye_id'] == 0, :]\n",
    "e1 = df.loc[df['eye_id'] == 1, :]\n",
    "\n",
    "# zrób na ze wszystkich, które mają confi < 0.6\n",
    "df1.loc[df1['confidence'] < .6, 'diameter'] = np.nan\n",
    "\n",
    "#przelicz z-score\n",
    "df1.loc[:, 'diam'] = (df1.diameter - df1.diameter.mean()) / df1.diameter.std(ddof=0)\n",
    "\n",
    "start_time = df1['pupil_timestamp'][0]\n",
    "# dołóż dobry czas\n",
    "df1['time'] = df1['pupil_timestamp'] - start_time\n",
    "\n",
    "# określ warunki\n",
    "df1['condition'] = 'recovery'\n",
    "df1.loc[df['time'] < 60, 'condition'] = 'test'\n",
    "df1.loc[df['time'] < 30, 'condition'] = 'baseline'\n",
    "\n",
    "# czasy relatywnie do warunków\n",
    "df1['cond_time'] = df['time']\n",
    "df1.loc[df1['time'] > 60, 'cond_time'] = df1['time'] - 60\n",
    "df1.loc[(df1['time'] > 30) & (df1['time'] < 60), 'cond_time'] = df1['time'] - 30\n",
    "\n",
    "# wywal dziwolągi\n",
    "df1.loc[abs(df1['diam'])>5, 'diam'] = np.nan\n",
    "\n",
    "# rozbij na oczy\n",
    "e0_1 = df1.loc[df1['eye_id'] == 0, :]\n",
    "e1_1 = df1.loc[df1['eye_id'] == 1, :]\n"
   ]
  },
  {
   "cell_type": "code",
   "execution_count": 70,
   "metadata": {},
   "outputs": [
    {
     "data": {
      "text/html": [
       "<div>\n",
       "<style scoped>\n",
       "    .dataframe tbody tr th:only-of-type {\n",
       "        vertical-align: middle;\n",
       "    }\n",
       "\n",
       "    .dataframe tbody tr th {\n",
       "        vertical-align: top;\n",
       "    }\n",
       "\n",
       "    .dataframe thead th {\n",
       "        text-align: right;\n",
       "    }\n",
       "</style>\n",
       "<table border=\"1\" class=\"dataframe\">\n",
       "  <thead>\n",
       "    <tr style=\"text-align: right;\">\n",
       "      <th></th>\n",
       "      <th>pupil_timestamp</th>\n",
       "      <th>diameter</th>\n",
       "      <th>confidence</th>\n",
       "      <th>eye_id</th>\n",
       "      <th>diam</th>\n",
       "      <th>time</th>\n",
       "      <th>condition</th>\n",
       "      <th>cond_time</th>\n",
       "    </tr>\n",
       "  </thead>\n",
       "  <tbody>\n",
       "    <tr>\n",
       "      <th>23258</th>\n",
       "      <td>15960.753786</td>\n",
       "      <td>31.137116</td>\n",
       "      <td>0.996249</td>\n",
       "      <td>0</td>\n",
       "      <td>-0.628967</td>\n",
       "      <td>93.834691</td>\n",
       "      <td>recovery</td>\n",
       "      <td>33.834691</td>\n",
       "    </tr>\n",
       "    <tr>\n",
       "      <th>23260</th>\n",
       "      <td>15960.761855</td>\n",
       "      <td>31.275080</td>\n",
       "      <td>0.921182</td>\n",
       "      <td>0</td>\n",
       "      <td>-0.588488</td>\n",
       "      <td>93.842760</td>\n",
       "      <td>recovery</td>\n",
       "      <td>33.842760</td>\n",
       "    </tr>\n",
       "    <tr>\n",
       "      <th>23262</th>\n",
       "      <td>15960.769924</td>\n",
       "      <td>31.421397</td>\n",
       "      <td>0.919653</td>\n",
       "      <td>0</td>\n",
       "      <td>-0.545558</td>\n",
       "      <td>93.850829</td>\n",
       "      <td>recovery</td>\n",
       "      <td>33.850829</td>\n",
       "    </tr>\n",
       "    <tr>\n",
       "      <th>23264</th>\n",
       "      <td>15960.777993</td>\n",
       "      <td>31.375511</td>\n",
       "      <td>0.921708</td>\n",
       "      <td>0</td>\n",
       "      <td>-0.559021</td>\n",
       "      <td>93.858898</td>\n",
       "      <td>recovery</td>\n",
       "      <td>33.858898</td>\n",
       "    </tr>\n",
       "    <tr>\n",
       "      <th>23266</th>\n",
       "      <td>15960.786062</td>\n",
       "      <td>31.432377</td>\n",
       "      <td>0.982047</td>\n",
       "      <td>0</td>\n",
       "      <td>-0.542336</td>\n",
       "      <td>93.866967</td>\n",
       "      <td>recovery</td>\n",
       "      <td>33.866967</td>\n",
       "    </tr>\n",
       "  </tbody>\n",
       "</table>\n",
       "</div>"
      ],
      "text/plain": [
       "       pupil_timestamp   diameter  confidence  eye_id      diam       time  \\\n",
       "23258     15960.753786  31.137116    0.996249       0 -0.628967  93.834691   \n",
       "23260     15960.761855  31.275080    0.921182       0 -0.588488  93.842760   \n",
       "23262     15960.769924  31.421397    0.919653       0 -0.545558  93.850829   \n",
       "23264     15960.777993  31.375511    0.921708       0 -0.559021  93.858898   \n",
       "23266     15960.786062  31.432377    0.982047       0 -0.542336  93.866967   \n",
       "\n",
       "      condition  cond_time  \n",
       "23258  recovery  33.834691  \n",
       "23260  recovery  33.842760  \n",
       "23262  recovery  33.850829  \n",
       "23264  recovery  33.858898  \n",
       "23266  recovery  33.866967  "
      ]
     },
     "execution_count": 70,
     "metadata": {},
     "output_type": "execute_result"
    }
   ],
   "source": [
    "e0.tail()"
   ]
  },
  {
   "cell_type": "code",
   "execution_count": 71,
   "metadata": {},
   "outputs": [
    {
     "data": {
      "text/html": [
       "<div>\n",
       "<style scoped>\n",
       "    .dataframe tbody tr th:only-of-type {\n",
       "        vertical-align: middle;\n",
       "    }\n",
       "\n",
       "    .dataframe tbody tr th {\n",
       "        vertical-align: top;\n",
       "    }\n",
       "\n",
       "    .dataframe thead th {\n",
       "        text-align: right;\n",
       "    }\n",
       "</style>\n",
       "<table border=\"1\" class=\"dataframe\">\n",
       "  <thead>\n",
       "    <tr style=\"text-align: right;\">\n",
       "      <th></th>\n",
       "      <th>pupil_timestamp</th>\n",
       "      <th>diameter</th>\n",
       "      <th>confidence</th>\n",
       "      <th>eye_id</th>\n",
       "      <th>diam</th>\n",
       "      <th>time</th>\n",
       "      <th>condition</th>\n",
       "      <th>cond_time</th>\n",
       "    </tr>\n",
       "  </thead>\n",
       "  <tbody>\n",
       "    <tr>\n",
       "      <th>22679</th>\n",
       "      <td>16096.539339</td>\n",
       "      <td>33.691247</td>\n",
       "      <td>0.998564</td>\n",
       "      <td>0</td>\n",
       "      <td>0.336148</td>\n",
       "      <td>91.526470</td>\n",
       "      <td>recovery</td>\n",
       "      <td>31.526470</td>\n",
       "    </tr>\n",
       "    <tr>\n",
       "      <th>22681</th>\n",
       "      <td>16096.547408</td>\n",
       "      <td>33.708937</td>\n",
       "      <td>0.999149</td>\n",
       "      <td>0</td>\n",
       "      <td>0.347876</td>\n",
       "      <td>91.534539</td>\n",
       "      <td>recovery</td>\n",
       "      <td>31.534539</td>\n",
       "    </tr>\n",
       "    <tr>\n",
       "      <th>22683</th>\n",
       "      <td>16096.555477</td>\n",
       "      <td>33.718762</td>\n",
       "      <td>0.998641</td>\n",
       "      <td>0</td>\n",
       "      <td>0.354390</td>\n",
       "      <td>91.542608</td>\n",
       "      <td>recovery</td>\n",
       "      <td>31.542608</td>\n",
       "    </tr>\n",
       "    <tr>\n",
       "      <th>22685</th>\n",
       "      <td>16096.563546</td>\n",
       "      <td>33.846301</td>\n",
       "      <td>0.999939</td>\n",
       "      <td>0</td>\n",
       "      <td>0.438947</td>\n",
       "      <td>91.550677</td>\n",
       "      <td>recovery</td>\n",
       "      <td>31.550677</td>\n",
       "    </tr>\n",
       "    <tr>\n",
       "      <th>22687</th>\n",
       "      <td>16096.571615</td>\n",
       "      <td>33.636443</td>\n",
       "      <td>0.997839</td>\n",
       "      <td>0</td>\n",
       "      <td>0.299814</td>\n",
       "      <td>91.558746</td>\n",
       "      <td>recovery</td>\n",
       "      <td>31.558746</td>\n",
       "    </tr>\n",
       "  </tbody>\n",
       "</table>\n",
       "</div>"
      ],
      "text/plain": [
       "       pupil_timestamp   diameter  confidence  eye_id      diam       time  \\\n",
       "22679     16096.539339  33.691247    0.998564       0  0.336148  91.526470   \n",
       "22681     16096.547408  33.708937    0.999149       0  0.347876  91.534539   \n",
       "22683     16096.555477  33.718762    0.998641       0  0.354390  91.542608   \n",
       "22685     16096.563546  33.846301    0.999939       0  0.438947  91.550677   \n",
       "22687     16096.571615  33.636443    0.997839       0  0.299814  91.558746   \n",
       "\n",
       "      condition  cond_time  \n",
       "22679  recovery  31.526470  \n",
       "22681  recovery  31.534539  \n",
       "22683  recovery  31.542608  \n",
       "22685  recovery  31.550677  \n",
       "22687  recovery  31.558746  "
      ]
     },
     "execution_count": 71,
     "metadata": {},
     "output_type": "execute_result"
    }
   ],
   "source": [
    "e0_1.tail()"
   ]
  },
  {
   "cell_type": "markdown",
   "metadata": {},
   "source": [
    "## Pierwsza próba"
   ]
  },
  {
   "cell_type": "code",
   "execution_count": 62,
   "metadata": {},
   "outputs": [
    {
     "data": {
      "text/plain": [
       "<matplotlib.lines.Line2D at 0x1a229c7160>"
      ]
     },
     "execution_count": 62,
     "metadata": {},
     "output_type": "execute_result"
    },
    {
     "data": {
      "image/png": "[encoded data removed]",
      "text/plain": [
       "<Figure size 432x288 with 1 Axes>"
      ]
     },
     "metadata": {
      "needs_background": "light"
     },
     "output_type": "display_data"
    }
   ],
   "source": [
    "sns.lineplot(x='time', y='diam', data=e0)\n",
    "plt.axvline(30, c='red')\n",
    "plt.axvline(60, c='green')"
   ]
  },
  {
   "cell_type": "code",
   "execution_count": 85,
   "metadata": {},
   "outputs": [],
   "source": [
    "fig = px.line(df, x=\"time\", y=\"diam\", color='eye_id', title='próba 1')\n",
    "fig.update_layout(\n",
    "    shapes=[\n",
    "        # Line Vertical\n",
    "        go.layout.Shape(\n",
    "            type=\"line\",\n",
    "            x0=30,\n",
    "            y0=-2,\n",
    "            x1=30,\n",
    "            y1=2,\n",
    "            line=dict(\n",
    "                color=\"Red\",\n",
    "                width=2\n",
    "            )\n",
    "        ), \n",
    "        # Line Vertical\n",
    "        go.layout.Shape(\n",
    "            type=\"line\",\n",
    "            x0=60,\n",
    "            y0=-2,\n",
    "            x1=60,\n",
    "            y1=2,\n",
    "            line=dict(\n",
    "                color=\"Green\",\n",
    "                width=2\n",
    "            )\n",
    "        ), \n",
    "    ])\n",
    "fig.write_html('proba1.html', auto_open=True)"
   ]
  },
  {
   "cell_type": "markdown",
   "metadata": {},
   "source": [
    "## Druga próba"
   ]
  },
  {
   "cell_type": "code",
   "execution_count": 86,
   "metadata": {},
   "outputs": [],
   "source": [
    "fig = px.line(df1, x=\"time\", y=\"diam\", color='eye_id', title='próba 2')\n",
    "fig.update_layout(\n",
    "    shapes=[\n",
    "        # Line Vertical\n",
    "        go.layout.Shape(\n",
    "            type=\"line\",\n",
    "            x0=30,\n",
    "            y0=-3,\n",
    "            x1=30,\n",
    "            y1=3,\n",
    "            line=dict(\n",
    "                color=\"Red\",\n",
    "                width=2\n",
    "            )\n",
    "        ), \n",
    "        # Line Vertical\n",
    "        go.layout.Shape(\n",
    "            type=\"line\",\n",
    "            x0=60,\n",
    "            y0=-3,\n",
    "            x1=60,\n",
    "            y1=3,\n",
    "            line=dict(\n",
    "                color=\"Green\",\n",
    "                width=2\n",
    "            )\n",
    "        ), \n",
    "    ])\n",
    "fig.write_html('proba2.html', auto_open=True)"
   ]
  },
  {
   "cell_type": "code",
   "execution_count": 43,
   "metadata": {},
   "outputs": [
    {
     "data": {
      "text/plain": [
       "<matplotlib.lines.Line2D at 0x1a2d011208>"
      ]
     },
     "execution_count": 43,
     "metadata": {},
     "output_type": "execute_result"
    },
    {
     "data": {
      "image/png": "[encoded data removed]",
      "text/plain": [
       "<Figure size 432x288 with 1 Axes>"
      ]
     },
     "metadata": {
      "needs_background": "light"
     },
     "output_type": "display_data"
    }
   ],
   "source": [
    "sns.lineplot(x='time', y='diam', data=e1_1)\n",
    "plt.axvline(30, c='red')\n",
    "plt.axvline(60, c='green')"
   ]
  },
  {
   "cell_type": "code",
   "execution_count": null,
   "metadata": {},
   "outputs": [],
   "source": []
  },
  {
   "cell_type": "markdown",
   "metadata": {},
   "source": [
    "# Pierdoły"
   ]
  },
  {
   "cell_type": "code",
   "execution_count": 8,
   "metadata": {},
   "outputs": [
    {
     "data": {
      "text/plain": [
       "<matplotlib.axes._subplots.AxesSubplot at 0x1a21cd9438>"
      ]
     },
     "execution_count": 8,
     "metadata": {},
     "output_type": "execute_result"
    },
    {
     "data": {
      "image/png": "[encoded data removed]",
      "text/plain": [
       "<Figure size 432x288 with 1 Axes>"
      ]
     },
     "metadata": {
      "needs_background": "light"
     },
     "output_type": "display_data"
    }
   ],
   "source": [
    "sns.lineplot(x='time', y='diam', data=e0[:4000])"
   ]
  },
  {
   "cell_type": "code",
   "execution_count": 24,
   "metadata": {},
   "outputs": [
    {
     "data": {
      "text/plain": [
       "<matplotlib.axes._subplots.AxesSubplot at 0x1a30eeaf28>"
      ]
     },
     "execution_count": 24,
     "metadata": {},
     "output_type": "execute_result"
    },
    {
     "data": {
      "image/png": "[encoded data removed]",
      "text/plain": [
       "<Figure size 432x288 with 1 Axes>"
      ]
     },
     "metadata": {
      "needs_background": "light"
     },
     "output_type": "display_data"
    }
   ],
   "source": [
    "sns.distplot(e0['confidence'])\n",
    "sns.distplot(e1['confidence'])"
   ]
  },
  {
   "cell_type": "markdown",
   "metadata": {},
   "source": [
    "# FFT"
   ]
  },
  {
   "cell_type": "code",
   "execution_count": 132,
   "metadata": {},
   "outputs": [],
   "source": [
    "def make_fft(signal):\n",
    "    n_samples = len(signal)\n",
    "    fft_freq = np.fft.fftfreq(n_samples, sample_spacing)\n",
    "    fft_vals = np.fft.fft(signal)\n",
    "    fft_df = pd.DataFrame({'freq':fft_freq, 'val':abs(fft_vals)})\n",
    "    return fft_df[(fft_df['freq']>0)]"
   ]
  },
  {
   "cell_type": "code",
   "execution_count": 138,
   "metadata": {},
   "outputs": [],
   "source": [
    "# lepsze jest oko 1, więc tylko to weźmiemy\n",
    "# najpierw baseline\n",
    "baseline = df[(df['condition'] == 'baseline') & (df['eye_id']==1)]\n",
    "\n",
    "czas_przes = baseline['time'].values[1:]\n",
    "time_diff = baseline['time'][:-1] - czas_przes\n",
    "sample_spacing = time_diff.mean()\n",
    "\n",
    "signal = baseline['diameter']\n",
    "fft_baseline = make_fft(signal)\n",
    "fft_baseline['cond'] = 'baseline'\n",
    "\n",
    "signal = df.loc[(df['condition'] == 'test') & (df['eye_id']==1), 'diameter']\n",
    "fft_test = make_fft(signal)\n",
    "fft_test['cond'] = 'test'\n",
    "\n",
    "signal = df.loc[(df['condition'] == 'recovery') & (df['eye_id']==1), 'diameter']\n",
    "fft_recovery = make_fft(signal)\n",
    "fft_recovery['cond'] = 'recovery'\n",
    "\n",
    "fft_all = pd.concat([fft_baseline, fft_test, fft_recovery])\n"
   ]
  },
  {
   "cell_type": "code",
   "execution_count": 134,
   "metadata": {},
   "outputs": [
    {
     "data": {
      "text/plain": [
       "<matplotlib.axes._subplots.AxesSubplot at 0x1a2ca667b8>"
      ]
     },
     "execution_count": 134,
     "metadata": {},
     "output_type": "execute_result"
    },
    {
     "data": {
      "image/png": "[encoded data removed]",
      "text/plain": [
       "<Figure size 432x288 with 1 Axes>"
      ]
     },
     "metadata": {
      "needs_background": "light"
     },
     "output_type": "display_data"
    }
   ],
   "source": [
    "sns.lineplot('freq', 'val', data=fft_df[(fft_df['freq']>0.05)&(fft_df['freq']<20)])"
   ]
  },
  {
   "cell_type": "code",
   "execution_count": 141,
   "metadata": {},
   "outputs": [],
   "source": [
    "fig = px.line(fft_all[fft_all['freq'] < 2], x=\"freq\", y=\"val\", color=\"cond\", title='fft - próba 1, oko1')\n",
    "fig.write_html('fft_proba1.html', auto_open=True)"
   ]
  },
  {
   "cell_type": "code",
   "execution_count": null,
   "metadata": {},
   "outputs": [],
   "source": []
  }
 ],
 "metadata": {
  "kernelspec": {
   "display_name": "Python 3",
   "language": "python",
   "name": "python3"
  },
  "language_info": {
   "codemirror_mode": {
    "name": "ipython",
    "version": 3
   },
   "file_extension": ".py",
   "mimetype": "text/x-python",
   "name": "python",
   "nbconvert_exporter": "python",
   "pygments_lexer": "ipython3",
   "version": "3.7.3"
  }
 },
 "nbformat": 4,
 "nbformat_minor": 4
}
